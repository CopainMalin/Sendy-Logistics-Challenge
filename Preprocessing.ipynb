{
 "cells": [
  {
   "cell_type": "code",
   "execution_count": 49,
   "metadata": {},
   "outputs": [],
   "source": [
    "import numpy as np\n",
    "import pandas as pd\n",
    "import matplotlib.pyplot as plt\n",
    "import seaborn as sns\n",
    "sns.set_theme(style=\"darkgrid\")"
   ]
  },
  {
   "cell_type": "code",
   "execution_count": 50,
   "metadata": {},
   "outputs": [],
   "source": [
    "data = pd.read_csv('train.csv')\n",
    "df = data.copy()\n",
    "data_r = pd.read_csv('Riders.csv')\n",
    "df_r = data_r.copy()\n",
    "df_merged = pd.merge(df, df_r, how='inner', on='Rider Id')"
   ]
  },
  {
   "cell_type": "markdown",
   "metadata": {},
   "source": [
    "# Pre-processing"
   ]
  },
  {
   "cell_type": "markdown",
   "metadata": {},
   "source": [
    "Création des colonnes et préprocessing fait dans l'EDA"
   ]
  },
  {
   "cell_type": "code",
   "execution_count": 51,
   "metadata": {},
   "outputs": [],
   "source": [
    "numerical_col = df_merged.select_dtypes(include=['int64','float']).columns\n",
    "\n",
    "categorical_col = df_merged.select_dtypes(exclude=['int64','float']).columns\n",
    "\n",
    "time_col = ['Pickup - Time', 'Arrival at Pickup - Time', 'Placement - Time',\n",
    "        'Confirmation - Time', 'Arrival at Destination - Time']\n",
    "categorical_col = categorical_col.drop(['Order No','User Id', 'Rider Id'])\n",
    "categorical_col = categorical_col.drop(time_col)\n",
    "numerical_col = numerical_col.tolist()\n",
    "categorical_col = categorical_col.tolist()\n",
    "\n",
    "colToswitch = ['Platform Type',\n",
    "                'Placement - Weekday (Mo = 1)',\n",
    "                'Arrival at Pickup - Weekday (Mo = 1)',\n",
    "               'Confirmation - Weekday (Mo = 1)',\n",
    "               'Pickup - Weekday (Mo = 1)',\n",
    "               'Arrival at Destination - Weekday (Mo = 1)',\n",
    "               ]\n",
    "categorical_col.extend(colToswitch)\n",
    "for col in colToswitch:\n",
    "    numerical_col.remove(col)\n",
    "numerical_col.remove('Time from Pickup to Arrival')"
   ]
  },
  {
   "cell_type": "code",
   "execution_count": 52,
   "metadata": {},
   "outputs": [],
   "source": [
    "def transfo_jour(x):\n",
    "    if x == 1:\n",
    "        x = str('Monday')\n",
    "    elif x == 2:\n",
    "        x = str('Tuesday')\n",
    "    elif x == 3:\n",
    "        x = str('Wednesday')\n",
    "    elif x == 4:\n",
    "        x = str('Thursday')\n",
    "    elif x == 5:\n",
    "        x = str('Friday')\n",
    "    elif x == 6:\n",
    "        x = str('Saturday')\n",
    "    else:\n",
    "        x = str('Sunday')\n",
    "    return x\n",
    "\n",
    "import re\n",
    "for col in categorical_col:\n",
    "    if(re.search('Weekday',col)) != None:\n",
    "       df_merged[col] = df_merged[col].apply(transfo_jour) "
   ]
  },
  {
   "cell_type": "code",
   "execution_count": 53,
   "metadata": {},
   "outputs": [],
   "source": [
    "def time_processing(x):\n",
    "    if isinstance(x, int):\n",
    "        return x\n",
    "    else:\n",
    "        if(x[-2:] == 'AM'):\n",
    "            varadd = 0\n",
    "        else:\n",
    "            varadd = 12\n",
    "        h, m, s = x[:-3].split(':')\n",
    "        h = int(h)+varadd\n",
    "        x = h\n",
    "        return x\n",
    "    \n",
    "for col in time_col:\n",
    "     df_merged[col] = df_merged[col].apply(time_processing)"
   ]
  },
  {
   "cell_type": "code",
   "execution_count": 54,
   "metadata": {},
   "outputs": [],
   "source": [
    "listwe = list()\n",
    "for i in df_merged['Placement - Weekday (Mo = 1)']:\n",
    "    if i == 'Saturday' or i == 'Sunday':\n",
    "        listwe.append(True)\n",
    "    else:\n",
    "        listwe.append(False)   "
   ]
  },
  {
   "cell_type": "code",
   "execution_count": 55,
   "metadata": {},
   "outputs": [],
   "source": [
    "df_merged['Weekend'] = listwe\n",
    "categorical_col.append('Weekend')"
   ]
  },
  {
   "cell_type": "code",
   "execution_count": 56,
   "metadata": {},
   "outputs": [],
   "source": [
    "time_cat = list()\n",
    "for index in range(df_merged['Placement - Time'].shape[0]):\n",
    "    if df_merged['Placement - Time'][index] <= 11:\n",
    "        time_cat.append(\"Matin\")\n",
    "    elif df_merged['Placement - Time'][index] > 11 and df_merged['Placement - Time'][index] < 17:\n",
    "        time_cat.append(\"Apm\")\n",
    "    elif df_merged['Placement - Time'][index] >= 17 and df_merged['Placement - Time'][index] <= 22:\n",
    "        time_cat.append(\"Soiree\")\n",
    "    elif df_merged['Placement - Time'][index] > 22:\n",
    "        time_cat.append(\"Nuit\")\n",
    "df_merged['Time cat'] = time_cat\n",
    "categorical_col.append('Time cat')"
   ]
  },
  {
   "cell_type": "markdown",
   "metadata": {},
   "source": [
    "On intègre ces valeurs a présent numériques dans les colonnes numériques"
   ]
  },
  {
   "cell_type": "code",
   "execution_count": 57,
   "metadata": {},
   "outputs": [],
   "source": [
    "for i in range(len(time_col)):\n",
    "    numerical_col.append(time_col[i])"
   ]
  },
  {
   "cell_type": "code",
   "execution_count": 58,
   "metadata": {},
   "outputs": [
    {
     "data": {
      "text/html": [
       "<div>\n",
       "<style scoped>\n",
       "    .dataframe tbody tr th:only-of-type {\n",
       "        vertical-align: middle;\n",
       "    }\n",
       "\n",
       "    .dataframe tbody tr th {\n",
       "        vertical-align: top;\n",
       "    }\n",
       "\n",
       "    .dataframe thead th {\n",
       "        text-align: right;\n",
       "    }\n",
       "</style>\n",
       "<table border=\"1\" class=\"dataframe\">\n",
       "  <thead>\n",
       "    <tr style=\"text-align: right;\">\n",
       "      <th></th>\n",
       "      <th>Order No</th>\n",
       "      <th>User Id</th>\n",
       "      <th>Vehicle Type</th>\n",
       "      <th>Platform Type</th>\n",
       "      <th>Personal or Business</th>\n",
       "      <th>Placement - Day of Month</th>\n",
       "      <th>Placement - Weekday (Mo = 1)</th>\n",
       "      <th>Placement - Time</th>\n",
       "      <th>Confirmation - Day of Month</th>\n",
       "      <th>Confirmation - Weekday (Mo = 1)</th>\n",
       "      <th>...</th>\n",
       "      <th>Destination Lat</th>\n",
       "      <th>Destination Long</th>\n",
       "      <th>Rider Id</th>\n",
       "      <th>Time from Pickup to Arrival</th>\n",
       "      <th>No_Of_Orders</th>\n",
       "      <th>Age</th>\n",
       "      <th>Average_Rating</th>\n",
       "      <th>No_of_Ratings</th>\n",
       "      <th>Weekend</th>\n",
       "      <th>Time cat</th>\n",
       "    </tr>\n",
       "  </thead>\n",
       "  <tbody>\n",
       "    <tr>\n",
       "      <th>0</th>\n",
       "      <td>Order_No_4211</td>\n",
       "      <td>User_Id_633</td>\n",
       "      <td>Bike</td>\n",
       "      <td>3</td>\n",
       "      <td>Business</td>\n",
       "      <td>9</td>\n",
       "      <td>Friday</td>\n",
       "      <td>9</td>\n",
       "      <td>9</td>\n",
       "      <td>Friday</td>\n",
       "      <td>...</td>\n",
       "      <td>-1.300406</td>\n",
       "      <td>36.829741</td>\n",
       "      <td>Rider_Id_432</td>\n",
       "      <td>745</td>\n",
       "      <td>1637</td>\n",
       "      <td>1309</td>\n",
       "      <td>13.8</td>\n",
       "      <td>549</td>\n",
       "      <td>False</td>\n",
       "      <td>Matin</td>\n",
       "    </tr>\n",
       "    <tr>\n",
       "      <th>1</th>\n",
       "      <td>Order_No_27440</td>\n",
       "      <td>User_Id_2642</td>\n",
       "      <td>Bike</td>\n",
       "      <td>3</td>\n",
       "      <td>Personal</td>\n",
       "      <td>18</td>\n",
       "      <td>Friday</td>\n",
       "      <td>15</td>\n",
       "      <td>18</td>\n",
       "      <td>Friday</td>\n",
       "      <td>...</td>\n",
       "      <td>-1.356237</td>\n",
       "      <td>36.904295</td>\n",
       "      <td>Rider_Id_432</td>\n",
       "      <td>2886</td>\n",
       "      <td>1637</td>\n",
       "      <td>1309</td>\n",
       "      <td>13.8</td>\n",
       "      <td>549</td>\n",
       "      <td>False</td>\n",
       "      <td>Apm</td>\n",
       "    </tr>\n",
       "    <tr>\n",
       "      <th>2</th>\n",
       "      <td>Order_No_14170</td>\n",
       "      <td>User_Id_3339</td>\n",
       "      <td>Bike</td>\n",
       "      <td>3</td>\n",
       "      <td>Business</td>\n",
       "      <td>31</td>\n",
       "      <td>Friday</td>\n",
       "      <td>24</td>\n",
       "      <td>31</td>\n",
       "      <td>Friday</td>\n",
       "      <td>...</td>\n",
       "      <td>-1.273412</td>\n",
       "      <td>36.818206</td>\n",
       "      <td>Rider_Id_432</td>\n",
       "      <td>2615</td>\n",
       "      <td>1637</td>\n",
       "      <td>1309</td>\n",
       "      <td>13.8</td>\n",
       "      <td>549</td>\n",
       "      <td>False</td>\n",
       "      <td>Nuit</td>\n",
       "    </tr>\n",
       "    <tr>\n",
       "      <th>3</th>\n",
       "      <td>Order_No_21727</td>\n",
       "      <td>User_Id_3523</td>\n",
       "      <td>Bike</td>\n",
       "      <td>3</td>\n",
       "      <td>Personal</td>\n",
       "      <td>2</td>\n",
       "      <td>Tuesday</td>\n",
       "      <td>7</td>\n",
       "      <td>2</td>\n",
       "      <td>Tuesday</td>\n",
       "      <td>...</td>\n",
       "      <td>-1.223520</td>\n",
       "      <td>36.802061</td>\n",
       "      <td>Rider_Id_432</td>\n",
       "      <td>2986</td>\n",
       "      <td>1637</td>\n",
       "      <td>1309</td>\n",
       "      <td>13.8</td>\n",
       "      <td>549</td>\n",
       "      <td>False</td>\n",
       "      <td>Matin</td>\n",
       "    </tr>\n",
       "    <tr>\n",
       "      <th>4</th>\n",
       "      <td>Order_No_8301</td>\n",
       "      <td>User_Id_87</td>\n",
       "      <td>Bike</td>\n",
       "      <td>2</td>\n",
       "      <td>Personal</td>\n",
       "      <td>22</td>\n",
       "      <td>Tuesday</td>\n",
       "      <td>10</td>\n",
       "      <td>22</td>\n",
       "      <td>Tuesday</td>\n",
       "      <td>...</td>\n",
       "      <td>-1.300431</td>\n",
       "      <td>36.752427</td>\n",
       "      <td>Rider_Id_432</td>\n",
       "      <td>1602</td>\n",
       "      <td>1637</td>\n",
       "      <td>1309</td>\n",
       "      <td>13.8</td>\n",
       "      <td>549</td>\n",
       "      <td>False</td>\n",
       "      <td>Matin</td>\n",
       "    </tr>\n",
       "  </tbody>\n",
       "</table>\n",
       "<p>5 rows × 35 columns</p>\n",
       "</div>"
      ],
      "text/plain": [
       "         Order No       User Id Vehicle Type  Platform Type  \\\n",
       "0   Order_No_4211   User_Id_633         Bike              3   \n",
       "1  Order_No_27440  User_Id_2642         Bike              3   \n",
       "2  Order_No_14170  User_Id_3339         Bike              3   \n",
       "3  Order_No_21727  User_Id_3523         Bike              3   \n",
       "4   Order_No_8301    User_Id_87         Bike              2   \n",
       "\n",
       "  Personal or Business  Placement - Day of Month Placement - Weekday (Mo = 1)  \\\n",
       "0             Business                         9                       Friday   \n",
       "1             Personal                        18                       Friday   \n",
       "2             Business                        31                       Friday   \n",
       "3             Personal                         2                      Tuesday   \n",
       "4             Personal                        22                      Tuesday   \n",
       "\n",
       "   Placement - Time  Confirmation - Day of Month  \\\n",
       "0                 9                            9   \n",
       "1                15                           18   \n",
       "2                24                           31   \n",
       "3                 7                            2   \n",
       "4                10                           22   \n",
       "\n",
       "  Confirmation - Weekday (Mo = 1)  ...  Destination Lat  Destination Long  \\\n",
       "0                          Friday  ...        -1.300406         36.829741   \n",
       "1                          Friday  ...        -1.356237         36.904295   \n",
       "2                          Friday  ...        -1.273412         36.818206   \n",
       "3                         Tuesday  ...        -1.223520         36.802061   \n",
       "4                         Tuesday  ...        -1.300431         36.752427   \n",
       "\n",
       "       Rider Id  Time from Pickup to Arrival  No_Of_Orders   Age  \\\n",
       "0  Rider_Id_432                          745          1637  1309   \n",
       "1  Rider_Id_432                         2886          1637  1309   \n",
       "2  Rider_Id_432                         2615          1637  1309   \n",
       "3  Rider_Id_432                         2986          1637  1309   \n",
       "4  Rider_Id_432                         1602          1637  1309   \n",
       "\n",
       "   Average_Rating  No_of_Ratings Weekend  Time cat  \n",
       "0            13.8            549   False     Matin  \n",
       "1            13.8            549   False       Apm  \n",
       "2            13.8            549   False      Nuit  \n",
       "3            13.8            549   False     Matin  \n",
       "4            13.8            549   False     Matin  \n",
       "\n",
       "[5 rows x 35 columns]"
      ]
     },
     "execution_count": 58,
     "metadata": {},
     "output_type": "execute_result"
    }
   ],
   "source": [
    "df_merged.head()"
   ]
  },
  {
   "cell_type": "markdown",
   "metadata": {},
   "source": [
    "## TrainTest - Nettoyage - Encodage"
   ]
  },
  {
   "cell_type": "code",
   "execution_count": 59,
   "metadata": {},
   "outputs": [],
   "source": [
    "from sklearn.model_selection import train_test_split\n",
    "from sklearn.compose import make_column_transformer\n",
    "from sklearn.pipeline import make_pipeline\n",
    "from sklearn.feature_selection import mutual_info_regression"
   ]
  },
  {
   "cell_type": "code",
   "execution_count": 60,
   "metadata": {},
   "outputs": [],
   "source": [
    "def boolean_process(x):\n",
    "        if x == True:\n",
    "            x = 1\n",
    "        else:\n",
    "            x = 0\n",
    "        return x"
   ]
  },
  {
   "cell_type": "markdown",
   "metadata": {},
   "source": [
    "### Feature engeneering"
   ]
  },
  {
   "cell_type": "code",
   "execution_count": 61,
   "metadata": {},
   "outputs": [],
   "source": [
    "df_merged['Weekend'] = df_merged['Weekend'].apply(boolean_process)"
   ]
  },
  {
   "cell_type": "code",
   "execution_count": 62,
   "metadata": {},
   "outputs": [],
   "source": [
    "df_merged['Lat/Long'] = (np.abs(df_merged['Pickup Lat'])-np.abs(df_merged['Destination Lat'])) * (np.abs(df_merged['Pickup Long']) - np.abs(df_merged['Destination Long']))"
   ]
  },
  {
   "cell_type": "code",
   "execution_count": 63,
   "metadata": {},
   "outputs": [],
   "source": [
    "numerical_col.append(['Lat/Long'])"
   ]
  },
  {
   "cell_type": "code",
   "execution_count": 64,
   "metadata": {},
   "outputs": [
    {
     "name": "stdout",
     "output_type": "stream",
     "text": [
      "[0.26528257]\n",
      "[0.29126856]\n"
     ]
    }
   ],
   "source": [
    "print(mutual_info_regression(df_merged['Lat/Long'].to_numpy().reshape(-1,1), df_merged['Time from Pickup to Arrival']))\n",
    "print(mutual_info_regression(df_merged['Distance (KM)'].to_numpy().reshape(-1,1), df_merged['Time from Pickup to Arrival']))"
   ]
  },
  {
   "cell_type": "markdown",
   "metadata": {},
   "source": [
    "On peut également créer une feature via les K-Means-Clustering"
   ]
  },
  {
   "cell_type": "code",
   "execution_count": 65,
   "metadata": {},
   "outputs": [],
   "source": [
    "features = [\"Distance (KM)\", 'Lat/Long']"
   ]
  },
  {
   "cell_type": "code",
   "execution_count": 66,
   "metadata": {},
   "outputs": [],
   "source": [
    "from sklearn.cluster import KMeans\n",
    "distortion = []\n",
    "K = range(1,10)\n",
    "for k in K:\n",
    "    kmeans = KMeans(n_clusters = k)\n",
    "    kmeans.fit(df_merged[features])\n",
    "    distortion.append(kmeans.inertia_)"
   ]
  },
  {
   "cell_type": "code",
   "execution_count": 67,
   "metadata": {},
   "outputs": [
    {
     "data": {
      "image/png": "[encoded data removed]",
      "text/plain": [
       "<Figure size 1008x864 with 1 Axes>"
      ]
     },
     "metadata": {},
     "output_type": "display_data"
    }
   ],
   "source": [
    "plt.figure(figsize=(14,12))\n",
    "plt.plot(K, distortion, 'bx-' , linewidth = 3)\n",
    "plt.xlabel('k')\n",
    "plt.ylabel('Distortion')\n",
    "plt.title('Elbow Method', fontsize = 20)\n",
    "plt.show()"
   ]
  },
  {
   "cell_type": "code",
   "execution_count": 68,
   "metadata": {},
   "outputs": [],
   "source": [
    "kmeans = KMeans(n_clusters = 3)\n",
    "kmeans.fit(df_merged[features])\n",
    "df_merged['KMeans Label'] = kmeans.labels_.tolist()"
   ]
  },
  {
   "cell_type": "markdown",
   "metadata": {},
   "source": [
    "Baisse très légèrement la précision du modèle."
   ]
  },
  {
   "cell_type": "markdown",
   "metadata": {},
   "source": [
    "### Train_set / Test_test"
   ]
  },
  {
   "cell_type": "code",
   "execution_count": 69,
   "metadata": {},
   "outputs": [],
   "source": [
    "train_set, test_set = train_test_split(df_merged, test_size=0.2, random_state=0)"
   ]
  },
  {
   "cell_type": "markdown",
   "metadata": {},
   "source": [
    "La variable Lat/Long définie au dessus semble avoir une information mutuelle presque identique à distance par rapport à la target. Pourtant, la précision des modèles augmente très peu en intégrant cette variable (pourquoi ?)"
   ]
  },
  {
   "cell_type": "markdown",
   "metadata": {},
   "source": [
    "### Fonctions de préprocessing"
   ]
  },
  {
   "cell_type": "code",
   "execution_count": 70,
   "metadata": {},
   "outputs": [],
   "source": [
    "from sklearn.impute import KNNImputer"
   ]
  },
  {
   "cell_type": "code",
   "execution_count": 71,
   "metadata": {},
   "outputs": [],
   "source": [
    "def imputer(df):\n",
    "    df = df.drop('Precipitation in millimeters', axis = 1)\n",
    "    imputer = KNNImputer(missing_values = np.nan, n_neighbors = 5)\n",
    "    df['Temperature'] = imputer.fit_transform(df['Temperature'].to_numpy().reshape(-1,1))\n",
    "    return df"
   ]
  },
  {
   "cell_type": "code",
   "execution_count": 72,
   "metadata": {},
   "outputs": [],
   "source": [
    "def preprocessing(df):\n",
    "    df = imputer(df)\n",
    "    X = df.drop('Time from Pickup to Arrival', axis = 1)\n",
    "    y = df['Time from Pickup to Arrival']\n",
    "    return X, y"
   ]
  },
  {
   "cell_type": "code",
   "execution_count": 73,
   "metadata": {},
   "outputs": [],
   "source": [
    "numerical_col.append(['Temperature'])"
   ]
  },
  {
   "cell_type": "markdown",
   "metadata": {},
   "source": [
    "### Pipelines de préprocessing"
   ]
  },
  {
   "cell_type": "code",
   "execution_count": 74,
   "metadata": {},
   "outputs": [],
   "source": [
    "from sklearn.preprocessing import OneHotEncoder\n",
    "from sklearn.preprocessing import OrdinalEncoder\n",
    "from sklearn.preprocessing import StandardScaler\n",
    "from sklearn.feature_selection import SelectKBest\n",
    "from sklearn.preprocessing import PolynomialFeatures"
   ]
  },
  {
   "cell_type": "code",
   "execution_count": 75,
   "metadata": {},
   "outputs": [],
   "source": [
    "categorical_pip = make_pipeline(OneHotEncoder())\n",
    "boolean_pip = make_pipeline(OneHotEncoder(categories = 'auto'))\n",
    "numerical_pip_scaled = make_pipeline(StandardScaler(), PolynomialFeatures(2), SelectKBest(mutual_info_regression, k = \"all\"))"
   ]
  },
  {
   "cell_type": "code",
   "execution_count": 76,
   "metadata": {},
   "outputs": [],
   "source": [
    "process_pip_scaled = make_column_transformer((categorical_pip, ['Time cat', 'Personal or Business',\n",
    "                                                                'Platform Type']),\n",
    "                                      (boolean_pip, ['Weekend']),\n",
    "                                      (numerical_pip_scaled, ['Distance (KM)', 'Lat/Long']),\n",
    "                                      remainder = \"drop\")"
   ]
  },
  {
   "cell_type": "markdown",
   "metadata": {},
   "source": [
    "## Modelisation pour évaluer l'efficacité du préprocessing"
   ]
  },
  {
   "cell_type": "code",
   "execution_count": 77,
   "metadata": {},
   "outputs": [],
   "source": [
    "from sklearn.tree import DecisionTreeRegressor\n",
    "from sklearn.linear_model import LinearRegression"
   ]
  },
  {
   "cell_type": "code",
   "execution_count": 78,
   "metadata": {},
   "outputs": [],
   "source": [
    "model_1 = make_pipeline(process_pip_scaled, DecisionTreeRegressor(random_state = 0))"
   ]
  },
  {
   "cell_type": "code",
   "execution_count": 79,
   "metadata": {},
   "outputs": [],
   "source": [
    "model_2 = make_pipeline(process_pip_scaled, LinearRegression())"
   ]
  },
  {
   "cell_type": "code",
   "execution_count": 80,
   "metadata": {},
   "outputs": [],
   "source": [
    "X_train, y_train = preprocessing(train_set)\n",
    "X_test, y_test = preprocessing(test_set)"
   ]
  },
  {
   "cell_type": "markdown",
   "metadata": {},
   "source": [
    "## Evaluation"
   ]
  },
  {
   "cell_type": "code",
   "execution_count": 81,
   "metadata": {},
   "outputs": [],
   "source": [
    "from sklearn.metrics import mean_absolute_error, mean_squared_error, r2_score, median_absolute_error\n",
    "from sklearn.model_selection import learning_curve"
   ]
  },
  {
   "cell_type": "code",
   "execution_count": 84,
   "metadata": {},
   "outputs": [],
   "source": [
    "def evaluation(model):\n",
    "    model.fit(X_train, y_train)\n",
    "    ypred = model.predict(X_test)\n",
    "    \n",
    "    print('MAE :', mean_absolute_error(y_test, ypred)/60)\n",
    "    print('RMSE :', np.sqrt(mean_squared_error(y_test, ypred)/60))\n",
    "    print('Median Absolute Error :', median_absolute_error(y_test, ypred)/60)\n",
    "    print('R2 :', r2_score(y_test, ypred))\n",
    "    \n",
    "    N, train_score, val_score = learning_curve(model, X_train, y_train,\n",
    "                                              cv=4, scoring='r2',\n",
    "                                               train_sizes=np.linspace(0.1, 1, 10))\n",
    "    \n",
    "    \n",
    "    plt.figure(figsize=(14, 12))\n",
    "    plt.plot(N, train_score.mean(axis=1), label='train score', linewidth = 3)\n",
    "    plt.plot(N, val_score.mean(axis=1), label='validation score', linewidth = 3)\n",
    "    plt.ylabel('R2', fontsize = 15)\n",
    "    plt.legend()\n",
    "    plt.show()"
   ]
  },
  {
   "cell_type": "code",
   "execution_count": 85,
   "metadata": {},
   "outputs": [
    {
     "name": "stdout",
     "output_type": "stream",
     "text": [
      "MAE : 9.112615194922581\n",
      "RMSE : 102.75188825264947\n",
      "Median Absolute Error : 6.222916666666666\n",
      "R2 : 0.3472343654068507\n"
     ]
    },
    {
     "data": {
      "image/png": "[encoded data removed]",
      "text/plain": [
       "<Figure size 1008x864 with 1 Axes>"
      ]
     },
     "metadata": {},
     "output_type": "display_data"
    }
   ],
   "source": [
    "evaluation(model_2)"
   ]
  },
  {
   "cell_type": "markdown",
   "metadata": {},
   "source": [
    "<ul>\n",
    "    <li> Distance est la seule variable réellement apportant de l'information sur la target. </li>\n",
    "    <li> En intégrant weekend et les variables qualitatives au modèle, notre modèle est un peu meilleur </li>\n",
    "    <li> Température avec un KNNImputer et 5 voisins fait baiser lui la précision du modèle. </li>\n",
    "</ul>"
   ]
  }
 ],
 "metadata": {
  "kernelspec": {
   "display_name": "Python 3",
   "language": "python",
   "name": "python3"
  },
  "language_info": {
   "codemirror_mode": {
    "name": "ipython",
    "version": 3
   },
   "file_extension": ".py",
   "mimetype": "text/x-python",
   "name": "python",
   "nbconvert_exporter": "python",
   "pygments_lexer": "ipython3",
   "version": "3.8.5"
  }
 },
 "nbformat": 4,
 "nbformat_minor": 4
}
